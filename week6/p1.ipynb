{
 "cells": [
  {
   "cell_type": "code",
   "execution_count": 2,
   "id": "b32974cc",
   "metadata": {},
   "outputs": [
    {
     "name": "stdout",
     "output_type": "stream",
     "text": [
      "Maximum Spacing Estimator for Set 1: 4.0118133333333335\n",
      "Maximum Spacing Estimator for Set 2: 3.91578\n",
      "Maximum Spacing Estimator for Set 3: 4.1274\n"
     ]
    }
   ],
   "source": [
    "import numpy as np\n",
    "\n",
    "# Load the data sets from Moodle (replace with your actual data loading)\n",
    "data_set_1 = np.loadtxt('sampleset_1_problemsheet4_ex1.txt')\n",
    "data_set_2 = np.loadtxt('sampleset_2_problemsheet4_ex1.txt')\n",
    "data_set_3 = np.loadtxt('sampleset_3_problemsheet4_ex1.txt')\n",
    "\n",
    "# Calculate Maximum Spacing Estimator for each set\n",
    "n1 = len(data_set_1)\n",
    "theta_mse_1 = (n1 + 1) / n1 * np.max(data_set_1)\n",
    "\n",
    "n2 = len(data_set_2)\n",
    "theta_mse_2 = (n2 + 1) / n2 * np.max(data_set_2)\n",
    "\n",
    "n3 = len(data_set_3)\n",
    "theta_mse_3 = (n3 + 1) / n3 * np.max(data_set_3)\n",
    "\n",
    "# Print the results\n",
    "print(f\"Maximum Spacing Estimator for Set 1: {theta_mse_1}\")\n",
    "print(f\"Maximum Spacing Estimator for Set 2: {theta_mse_2}\")\n",
    "print(f\"Maximum Spacing Estimator for Set 3: {theta_mse_3}\")\n"
   ]
  },
  {
   "cell_type": "code",
   "execution_count": null,
   "id": "244a0fed",
   "metadata": {},
   "outputs": [],
   "source": []
  },
  {
   "cell_type": "code",
   "execution_count": null,
   "id": "8a1a1a88",
   "metadata": {},
   "outputs": [],
   "source": []
  }
 ],
 "metadata": {
  "kernelspec": {
   "display_name": "Python 3 (ipykernel)",
   "language": "python",
   "name": "python3"
  },
  "language_info": {
   "codemirror_mode": {
    "name": "ipython",
    "version": 3
   },
   "file_extension": ".py",
   "mimetype": "text/x-python",
   "name": "python",
   "nbconvert_exporter": "python",
   "pygments_lexer": "ipython3",
   "version": "3.9.13"
  }
 },
 "nbformat": 4,
 "nbformat_minor": 5
}
