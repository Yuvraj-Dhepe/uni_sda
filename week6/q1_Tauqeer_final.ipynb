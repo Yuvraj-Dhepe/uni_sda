{
 "cells": [
  {
   "cell_type": "code",
   "execution_count": 14,
   "id": "7ae940f2",
   "metadata": {},
   "outputs": [
    {
     "name": "stdout",
     "output_type": "stream",
     "text": [
      "0.45489999999999986\n",
      "0.2287999999999999\n",
      "0.7923\n",
      "Set 1: Maximum Spacing Estimator for θ = 0.4701\n",
      "Set 2: Maximum Spacing Estimator for θ = 0.2334\n",
      "Set 3: Maximum Spacing Estimator for θ = 0.8913\n"
     ]
    }
   ],
   "source": [
    "import numpy as np\n",
    "import os\n",
    "\n",
    "def read_data(file_path):\n",
    "    with open(file_path, 'r') as file:\n",
    "        lines = file.readlines()\n",
    "    return np.array([float(line.strip()) for line in lines])\n",
    "\n",
    "def maximum_spacing_estimator(data):\n",
    "    # Step 1: Sort the data\n",
    "    sorted_data = np.sort(data)\n",
    "    \n",
    "    # Step 2: Calculate differences between consecutive order statistics\n",
    "    differences = np.diff(sorted_data)\n",
    "    #print(differences)\n",
    "    \n",
    "    # Step 3: Find the maximum spacing\n",
    "    max_spacing = np.max(differences)\n",
    "    print(max_spacing)\n",
    "    \n",
    "    # Step 4: Compute Maximum Spacing Estimator\n",
    "    n = len(data)\n",
    "    theta_mse = (n + 1) / n * max_spacing\n",
    "    \n",
    "    return theta_mse\n",
    "\n",
    "# Generate three sets of sample data\n",
    "np.random.seed(42)  # for reproducibility\n",
    "\n",
    "# Getting the home directory\n",
    "home_dir = os.path.expanduser(\"~\")\n",
    "\n",
    "# Constructing file paths\n",
    "file_path_1 = os.path.join('sampleset_1_problemsheet4_ex1.txt')\n",
    "file_path_2 = os.path.join('sampleset_2_problemsheet4_ex1.txt')\n",
    "file_path_3 = os.path.join('sampleset_3_problemsheet4_ex1.txt')\n",
    "\n",
    "# Read data from the three files\n",
    "sample_data_1 = read_data(file_path_1)\n",
    "sample_data_2 = read_data(file_path_2)\n",
    "sample_data_3 = read_data(file_path_3)\n",
    "\n",
    "# Calculate Maximum Spacing Estimators for each set of samples\n",
    "theta_mse_1 = maximum_spacing_estimator(sample_data_1)\n",
    "theta_mse_2 = maximum_spacing_estimator(sample_data_2)\n",
    "theta_mse_3 = maximum_spacing_estimator(sample_data_3)\n",
    "\n",
    "# Display the results\n",
    "print(f\"Set 1: Maximum Spacing Estimator for θ = {theta_mse_1:.4f}\")\n",
    "print(f\"Set 2: Maximum Spacing Estimator for θ = {theta_mse_2:.4f}\")\n",
    "print(f\"Set 3: Maximum Spacing Estimator for θ = {theta_mse_3:.4f}\")\n"
   ]
  },
  {
   "cell_type": "markdown",
   "source": [
    "# Task 2"
   ],
   "metadata": {
    "collapsed": false
   }
  },
  {
   "cell_type": "code",
   "execution_count": 15,
   "outputs": [],
   "source": [
    "def get_eps(m):\n",
    "    return np.random.normal(0, 0.5, size=(m, 1))\n",
    "\n",
    "\n",
    "def evolution(z_n):\n",
    "    return 0.99 * z_n + get_eps(m=len(z_n))\n",
    "\n",
    "\n",
    "def mse(y, _y):\n",
    "    return (y - _y) ** 2\n",
    "\n",
    "\n",
    "def mse_kalman(kalman_means, true_signal):\n",
    "    sse = 0\n",
    "    for i, point in enumerate(true_signal):\n",
    "        sse += mse(point, kalman_means[i])\n",
    "\n",
    "    return sse / len(true_signal)\n",
    "\n",
    "\n",
    "def mse_enkf(enkf_means, true_signal):\n",
    "    sse = 0\n",
    "    for i, point in enumerate(true_signal):\n",
    "        sse += mse(point, enkf_means[i].mean())\n",
    "\n",
    "    return sse / len(true_signal)\n"
   ],
   "metadata": {
    "collapsed": false
   }
  },
  {
   "cell_type": "markdown",
   "source": [
    "## Kalman Filter"
   ],
   "metadata": {
    "collapsed": false
   }
  },
  {
   "cell_type": "code",
   "execution_count": 16,
   "outputs": [],
   "source": [
    "def kalman_filter(initial_mean, initial_cov, evolution_noise, evolution_coef, observations, num_steps):\n",
    "    # Initialize the means and covariances over time for plotting\n",
    "    state_means = np.zeros(num_steps)\n",
    "    state_covariances = np.zeros(num_steps)\n",
    "\n",
    "    # Initialization of the mean and the variances\n",
    "    state_mean = initial_mean  # m_0\n",
    "    state_covariance = initial_cov  # C_0\n",
    "\n",
    "    for step in range(num_steps):\n",
    "        # 1. produce prediction\n",
    "        predicted_state_mean = evolution_coef * state_mean  # M^-1 0.99\n",
    "        predicted_state_covariance = evolution_coef ** 2 * state_covariance + evolution_noise ** 2\n",
    "\n",
    "        # 2 update the model by using the new observation to compute the kalman gain\n",
    "        k_gain = predicted_state_covariance / (predicted_state_covariance + evolution_noise ** 2)\n",
    "        state_mean = predicted_state_mean - (k_gain * (predicted_state_mean - observations[step]))\n",
    "        state_covariance = predicted_state_covariance - (k_gain * predicted_state_covariance)\n",
    "\n",
    "        state_means[step] = state_mean\n",
    "        state_covariances[step] = state_covariance\n",
    "\n",
    "    return state_means, state_covariances"
   ],
   "metadata": {
    "collapsed": false
   }
  },
  {
   "cell_type": "markdown",
   "source": [
    "## Ensemble Kalman Filter"
   ],
   "metadata": {
    "collapsed": false
   }
  },
  {
   "cell_type": "code",
   "execution_count": 17,
   "outputs": [],
   "source": [
    "def ensemble_kalman_filter(obs, initial_ensemble, num_steps):\n",
    "    ensemble_size = initial_ensemble.shape[0]\n",
    "    state_means = np.zeros((num_steps, ensemble_size))\n",
    "\n",
    "    # Initialization\n",
    "    ensemble = initial_ensemble\n",
    "\n",
    "    for step in range(num_steps):\n",
    "        # Prediction step\n",
    "        ensemble = evolution(ensemble)\n",
    "\n",
    "        # Update step\n",
    "        kalman_gain = np.cov(ensemble, rowvar=False) / (np.cov(ensemble, rowvar=False) + 0.5 ** 2)\n",
    "\n",
    "        ensemble = ensemble - kalman_gain * (ensemble - obs[step])\n",
    "\n",
    "        # compute the mean for the ensemble\n",
    "        state_means[step, :] = np.mean(ensemble, axis=1)\n",
    "\n",
    "    return state_means"
   ],
   "metadata": {
    "collapsed": false
   }
  },
  {
   "cell_type": "markdown",
   "source": [
    "## Comparison"
   ],
   "metadata": {
    "collapsed": false
   }
  },
  {
   "cell_type": "code",
   "execution_count": 19,
   "outputs": [
    {
     "name": "stdout",
     "output_type": "stream",
     "text": [
      "Mean Squared Error of Kalman Filter: 0.01522766848180877\n",
      "Mean Squared Error of Ensemble Kalman Filter with Ensemble Size 5: 0.055314197892018975\n",
      "Mean Squared Error of Ensemble Kalman Filter with Ensemble Size 10: 0.03548971077479864\n",
      "Mean Squared Error of Ensemble Kalman Filter with Ensemble Size 25: 0.027066739893787113\n",
      "Mean Squared Error of Ensemble Kalman Filter with Ensemble Size 50: 0.024407673646780932\n"
     ]
    }
   ],
   "source": [
    "data_path: str = \"./reference_signal.txt\"\n",
    "obs_path: str = \"./data.txt\"\n",
    "\n",
    "# load the true signal\n",
    "signal: list = []\n",
    "observations: list = []\n",
    "with open(data_path) as reference_txt:\n",
    "    for line in reference_txt:\n",
    "        signal.append(float(line))\n",
    "\n",
    "with open(data_path) as reference_txt:\n",
    "    for line in reference_txt:\n",
    "        observations.append(float(line))\n",
    "\n",
    "# Define the number of steps\n",
    "num_steps: int = len(signal)\n",
    "\n",
    "# Generate true signal and observations\n",
    "true_signal = np.array(signal)\n",
    "observations = np.array(observations)\n",
    "\n",
    "# Kalman Filter\n",
    "kf_means, _ = kalman_filter(observations=observations, initial_mean=0, initial_cov=0.5, evolution_coef=0.99, evolution_noise=0.5, num_steps=num_steps)\n",
    "\n",
    "# Ensemble Kalman Filter with different ensemble sizes\n",
    "ensemble_sizes = [5, 10, 25, 50]\n",
    "mse_kal = mse_kalman(kalman_means=kf_means, true_signal=true_signal)\n",
    "\n",
    "mse_enkfs = []\n",
    "for m in ensemble_sizes:\n",
    "    initial_ensemble = np.random.normal(0, 0.5, size=(m, 1))\n",
    "    enkf_means = ensemble_kalman_filter(observations, initial_ensemble, num_steps=num_steps)\n",
    "    mse_enkfs.append(mse_enkf(enkf_means=enkf_means, true_signal=true_signal))\n",
    "\n",
    "print(f\"Mean Squared Error of Kalman Filter: {mse_kal}\")\n",
    "for ensemble_size, mse_en in zip(ensemble_sizes, mse_enkfs):\n",
    "    print(f\"Mean Squared Error of Ensemble Kalman Filter with Ensemble Size {ensemble_size}: {mse_en}\")\n"
   ],
   "metadata": {
    "collapsed": false
   }
  },
  {
   "cell_type": "markdown",
   "source": [
    "## Comments:\n",
    "It Appears, that the Kalman Filter performs a bit better than the Ensemble Kalman Filter.\n",
    "This can have different reasons. One would be the simplicity of the data. Ensemble Kalman Filters are mostly\n",
    "used when the data has high dimensionality (e.g. 10e8). However in this case the dimensionality of the data is 1.\n",
    "Another reason could be that the number of Ensemble members is rather small. It is observable that the MSE\n",
    "for an increasing number of members is becoming smaller.\n",
    "So increasing the number of ensemble members does improve the performance.\n",
    "At the end it is hard to say why exactly the performance is worse but it will be a combination of the above\n",
    "mentioned facts"
   ],
   "metadata": {
    "collapsed": false
   }
  },
  {
   "cell_type": "code",
   "execution_count": null,
   "outputs": [],
   "source": [],
   "metadata": {
    "collapsed": false
   }
  }
 ],
 "metadata": {
  "kernelspec": {
   "display_name": "Python 3 (ipykernel)",
   "language": "python",
   "name": "python3"
  },
  "language_info": {
   "codemirror_mode": {
    "name": "ipython",
    "version": 3
   },
   "file_extension": ".py",
   "mimetype": "text/x-python",
   "name": "python",
   "nbconvert_exporter": "python",
   "pygments_lexer": "ipython3",
   "version": "3.10.13"
  }
 },
 "nbformat": 4,
 "nbformat_minor": 5
}
