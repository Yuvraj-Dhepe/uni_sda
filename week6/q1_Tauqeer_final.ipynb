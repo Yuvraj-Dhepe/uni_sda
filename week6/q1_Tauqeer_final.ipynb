{
 "cells": [
  {
   "cell_type": "code",
   "execution_count": 3,
   "id": "7ae940f2",
   "metadata": {},
   "outputs": [
    {
     "name": "stdout",
     "output_type": "stream",
     "text": [
      "0.45489999999999986\n",
      "0.2287999999999999\n",
      "0.7923\n",
      "Set 1: Maximum Spacing Estimator for θ = 0.4701\n",
      "Set 2: Maximum Spacing Estimator for θ = 0.2334\n",
      "Set 3: Maximum Spacing Estimator for θ = 0.8913\n"
     ]
    }
   ],
   "source": [
    "import numpy as np\n",
    "import os\n",
    "\n",
    "def read_data(file_path):\n",
    "    with open(file_path, 'r') as file:\n",
    "        lines = file.readlines()\n",
    "    return np.array([float(line.strip()) for line in lines])\n",
    "\n",
    "def maximum_spacing_estimator(data):\n",
    "    # Step 1: Sort the data\n",
    "    sorted_data = np.sort(data)\n",
    "    \n",
    "    # Step 2: Calculate differences between consecutive order statistics\n",
    "    differences = np.diff(sorted_data)\n",
    "    #print(differences)\n",
    "    \n",
    "    # Step 3: Find the maximum spacing\n",
    "    max_spacing = np.max(differences)\n",
    "    print(max_spacing)\n",
    "    \n",
    "    # Step 4: Compute Maximum Spacing Estimator\n",
    "    n = len(data)\n",
    "    theta_mse = (n + 1) / n * max_spacing\n",
    "    \n",
    "    return theta_mse\n",
    "\n",
    "# Generate three sets of sample data\n",
    "np.random.seed(42)  # for reproducibility\n",
    "\n",
    "# Getting the home directory\n",
    "home_dir = os.path.expanduser(\"~\")\n",
    "\n",
    "# Constructing file paths\n",
    "file_path_1 = os.path.join('sampleset_1_problemsheet4_ex1.txt')\n",
    "file_path_2 = os.path.join('sampleset_2_problemsheet4_ex1.txt')\n",
    "file_path_3 = os.path.join('sampleset_3_problemsheet4_ex1.txt')\n",
    "\n",
    "# Read data from the three files\n",
    "sample_data_1 = read_data(file_path_1)\n",
    "sample_data_2 = read_data(file_path_2)\n",
    "sample_data_3 = read_data(file_path_3)\n",
    "\n",
    "# Calculate Maximum Spacing Estimators for each set of samples\n",
    "theta_mse_1 = maximum_spacing_estimator(sample_data_1)\n",
    "theta_mse_2 = maximum_spacing_estimator(sample_data_2)\n",
    "theta_mse_3 = maximum_spacing_estimator(sample_data_3)\n",
    "\n",
    "# Display the results\n",
    "print(f\"Set 1: Maximum Spacing Estimator for θ = {theta_mse_1:.4f}\")\n",
    "print(f\"Set 2: Maximum Spacing Estimator for θ = {theta_mse_2:.4f}\")\n",
    "print(f\"Set 3: Maximum Spacing Estimator for θ = {theta_mse_3:.4f}\")\n"
   ]
  }
 ],
 "metadata": {
  "kernelspec": {
   "display_name": "Python 3 (ipykernel)",
   "language": "python",
   "name": "python3"
  },
  "language_info": {
   "codemirror_mode": {
    "name": "ipython",
    "version": 3
   },
   "file_extension": ".py",
   "mimetype": "text/x-python",
   "name": "python",
   "nbconvert_exporter": "python",
   "pygments_lexer": "ipython3",
   "version": "3.10.13"
  }
 },
 "nbformat": 4,
 "nbformat_minor": 5
}
