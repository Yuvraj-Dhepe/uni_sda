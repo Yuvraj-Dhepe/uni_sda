{
 "cells": [
  {
   "cell_type": "code",
   "execution_count": 13,
   "id": "b32974cc",
   "metadata": {},
   "outputs": [
    {
     "name": "stdout",
     "output_type": "stream",
     "text": [
      "Maximum Spacing Estimator for Set 1: 4.0118133333333335\n",
      "Maximum Spacing Estimator for Set 2: 3.91578\n",
      "Maximum Spacing Estimator for Set 3: 4.1274\n"
     ]
    }
   ],
   "source": [
    "import numpy as np\n",
    "\n",
    "# For maximum spacing estimator we have to maximize the geometric mean of sample spacing i.e. product of difference of cdfs for samples x1 to xn\n",
    "# Load the data sets from Moodle (replace with your actual data loading)\n",
    "data_set_1 = np.loadtxt('sampleset_1_problemsheet4_ex1.txt')\n",
    "data_set_2 = np.loadtxt('sampleset_2_problemsheet4_ex1.txt')\n",
    "data_set_3 = np.loadtxt('sampleset_3_problemsheet4_ex1.txt')\n",
    "\n",
    "# Calculate Maximum Spacing Estimator for each set\n",
    "n1 = len(data_set_1)\n",
    "theta_mse_1 = (n1 + 1) / n1 * np.max(data_set_1)\n",
    "\n",
    "n2 = len(data_set_2)\n",
    "theta_mse_2 = (n2 + 1) / n2 * np.max(data_set_2)\n",
    "\n",
    "n3 = len(data_set_3)\n",
    "theta_mse_3 = (n3 + 1) / n3 * np.max(data_set_3)\n",
    "\n",
    "# Print the results\n",
    "print(f\"Maximum Spacing Estimator for Set 1: {theta_mse_1}\")\n",
    "print(f\"Maximum Spacing Estimator for Set 2: {theta_mse_2}\")\n",
    "print(f\"Maximum Spacing Estimator for Set 3: {theta_mse_3}\")\n"
   ]
  },
  {
   "cell_type": "code",
   "execution_count": 36,
   "id": "244a0fed",
   "metadata": {},
   "outputs": [],
   "source": [
    "# import numpy as np\n",
    "# from scipy.optimize import minimize_scalar\n",
    "\n",
    "# # Given data sets\n",
    "# data_set_1 = np.loadtxt('sampleset_1_problemsheet4_ex1.txt')\n",
    "# data_set_2 = np.loadtxt('sampleset_2_problemsheet4_ex1.txt')\n",
    "# data_set_3 = np.loadtxt('sampleset_3_problemsheet4_ex1.txt')\n",
    "\n",
    "# # Function to calculate the log-likelihood function\n",
    "# def log_likelihood(theta, data):\n",
    "#     # Check for non-finite values in the data\n",
    "#     if not np.all(np.isfinite(data.ravel())):\n",
    "#         return np.inf  # Return infinity to indicate an issue\n",
    "#     data = np.sort(data)\n",
    "#     n = len(data)\n",
    "#     log_sum = np.log(data[1] / theta) + np.sum(np.log((data[2:] - data[1:-1]) / theta)) + np.log((data[-1] / theta) - 1)\n",
    "#     return -log_sum / n  # Negative for minimization\n",
    "\n",
    "# # Find the value of theta that maximizes the log-likelihood function for each data set\n",
    "# theta_mse_1 = minimize_scalar(log_likelihood, args=(data_set_1,), bounds=(0, None), method='bounded').x\n",
    "# theta_mse_2 = minimize_scalar(log_likelihood, args=(data_set_2,), bounds=(0, None), method='bounded').x\n",
    "# theta_mse_3 = minimize_scalar(log_likelihood, args=(data_set_3,), bounds=(0, None), method='bounded').x\n",
    "\n",
    "# # Print the results\n",
    "# print(f\"Maximum Spacing Estimator for Set 1: {theta_mse_1}\")\n",
    "# print(f\"Maximum Spacing Estimator for Set 2: {theta_mse_2}\")\n",
    "# print(f\"Maximum Spacing Estimator for Set 3: {theta_mse_3}\")\n"
   ]
  },
  {
   "cell_type": "code",
   "execution_count": 37,
   "id": "082083f6-ebf8-46af-a7c3-d0abc4faa7b6",
   "metadata": {},
   "outputs": [
    {
     "name": "stdout",
     "output_type": "stream",
     "text": [
      "Maximum Spacing Estimator for Set 1: 3.8824\n",
      "Maximum Spacing Estimator for Set 2: 3.839\n",
      "Maximum Spacing Estimator for Set 3: 3.6688\n"
     ]
    },
    {
     "name": "stderr",
     "output_type": "stream",
     "text": [
      "/tmp/ipykernel_1130/3029580488.py:15: RuntimeWarning: divide by zero encountered in log\n",
      "  log_sum = np.log(data[1] / theta) + np.sum(np.log((data[2:] - data[1:-1]) / theta)) + np.log((data[-1] / theta) - 1)\n"
     ]
    }
   ],
   "source": [
    "import numpy as np\n",
    "\n",
    "# Given data sets\n",
    "data_set_1 = np.loadtxt('sampleset_1_problemsheet4_ex1.txt')\n",
    "data_set_2 = np.loadtxt('sampleset_2_problemsheet4_ex1.txt')\n",
    "data_set_3 = np.loadtxt('sampleset_3_problemsheet4_ex1.txt')\n",
    "\n",
    "# Function to calculate the log-likelihood function\n",
    "def log_likelihood(theta, data):\n",
    "    # Check for non-finite values in the data\n",
    "    if not np.all(np.isfinite(data.ravel())):\n",
    "        return np.inf  # Return infinity to indicate an issue\n",
    "    data = np.sort(data)\n",
    "    n = len(data)\n",
    "    log_sum = np.log(data[1] / theta) + np.sum(np.log((data[2:] - data[1:-1]) / theta)) + np.log((data[-1] / theta) - 1)\n",
    "    return -log_sum / n  # Negative for minimization\n",
    "\n",
    "# Simple search to find the maximum spacing estimator for each data set\n",
    "def find_maximum_spacing_estimator(data):\n",
    "    theta_values = np.linspace(1e-10, max(data), 1000)\n",
    "    best_theta = None\n",
    "    max_log_likelihood = -np.inf\n",
    "\n",
    "    for theta in theta_values:\n",
    "        current_log_likelihood = log_likelihood(theta, data)\n",
    "        if current_log_likelihood > max_log_likelihood:\n",
    "            max_log_likelihood = current_log_likelihood\n",
    "            best_theta = theta\n",
    "\n",
    "    return best_theta\n",
    "\n",
    "# Find the value of theta that maximizes the log-likelihood function for each data set\n",
    "theta_mse_1 = find_maximum_spacing_estimator(data_set_1)\n",
    "theta_mse_2 = find_maximum_spacing_estimator(data_set_2)\n",
    "theta_mse_3 = find_maximum_spacing_estimator(data_set_3)\n",
    "\n",
    "# Print the results\n",
    "print(f\"Maximum Spacing Estimator for Set 1: {theta_mse_1}\")\n",
    "print(f\"Maximum Spacing Estimator for Set 2: {theta_mse_2}\")\n",
    "print(f\"Maximum Spacing Estimator for Set 3: {theta_mse_3}\")"
   ]
  }
 ],
 "metadata": {
  "kernelspec": {
   "display_name": "Python 3 (ipykernel)",
   "language": "python",
   "name": "python3"
  },
  "language_info": {
   "codemirror_mode": {
    "name": "ipython",
    "version": 3
   },
   "file_extension": ".py",
   "mimetype": "text/x-python",
   "name": "python",
   "nbconvert_exporter": "python",
   "pygments_lexer": "ipython3",
   "version": "3.10.13"
  }
 },
 "nbformat": 4,
 "nbformat_minor": 5
}
