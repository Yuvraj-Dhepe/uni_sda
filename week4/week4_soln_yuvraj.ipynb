{
 "cells": [
  {
   "cell_type": "code",
   "execution_count": 1,
   "id": "4a5e8f9a-2b44-4162-9a29-1e4226cdb191",
   "metadata": {},
   "outputs": [
    {
     "name": "stdout",
     "output_type": "stream",
     "text": [
      "Least Squares Estimators:\n",
      "Beta_0: 11.663999999999998\n",
      "Beta_1: -0.24399999999999994\n"
     ]
    }
   ],
   "source": [
    "import numpy as np\n",
    "\n",
    "# Given data\n",
    "distances = np.array([2, 4, 6, 8, 10])\n",
    "pollution = np.array([11.5, 10.2, 10.3, 9.68, 9.32])\n",
    "\n",
    "# Calculate means\n",
    "x_bar = np.mean(distances)\n",
    "y_bar = np.mean(pollution)\n",
    "\n",
    "# Calculate least squares estimators\n",
    "beta_1 = np.sum((distances - x_bar) * (pollution - y_bar)) / np.sum((distances - x_bar)**2)\n",
    "beta_0 = y_bar - beta_1 * x_bar\n",
    "\n",
    "# Print results\n",
    "print(\"Least Squares Estimators:\")\n",
    "print(\"Beta_0:\", beta_0)\n",
    "print(\"Beta_1:\", beta_1)"
   ]
  },
  {
   "cell_type": "code",
   "execution_count": 2,
   "id": "9b053d00-b851-4866-a361-dd6d2ed19f80",
   "metadata": {},
   "outputs": [
    {
     "name": "stdout",
     "output_type": "stream",
     "text": [
      "Adjusted MLE of Variance:\n",
      "Sigma^2_hat: 0.12112000000000038\n"
     ]
    }
   ],
   "source": [
    "# Calculate residuals\n",
    "residuals = pollution - (beta_0 + beta_1 * distances)\n",
    "\n",
    "# Calculate adjusted MLE of the variance\n",
    "sigma_squared_hat = np.sum(residuals**2) / (len(distances) - 2)\n",
    "\n",
    "# Print result\n",
    "print(\"Adjusted MLE of Variance:\")\n",
    "print(\"Sigma^2_hat:\", sigma_squared_hat)"
   ]
  }
 ],
 "metadata": {
  "kernelspec": {
   "display_name": "Python 3 (ipykernel)",
   "language": "python",
   "name": "python3"
  },
  "language_info": {
   "codemirror_mode": {
    "name": "ipython",
    "version": 3
   },
   "file_extension": ".py",
   "mimetype": "text/x-python",
   "name": "python",
   "nbconvert_exporter": "python",
   "pygments_lexer": "ipython3",
   "version": "3.10.13"
  }
 },
 "nbformat": 4,
 "nbformat_minor": 5
}
