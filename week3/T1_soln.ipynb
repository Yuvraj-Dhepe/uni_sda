{
 "cells": [
  {
   "cell_type": "code",
   "execution_count": 1,
   "id": "caca6c03-7638-424f-a2cc-598c463e7005",
   "metadata": {},
   "outputs": [
    {
     "name": "stdout",
     "output_type": "stream",
     "text": [
      "ML Estimator β hat: \n",
      "[[-0.00800698]\n",
      " [ 0.88161162]\n",
      " [-2.45938171]\n",
      " [-0.97715699]]\n",
      "ML Estimator of σ^2: 0.9548405627555108\n",
      "ML Estimator of adjusted σ^2 sse: 0.9791987403768247\n"
     ]
    }
   ],
   "source": [
    "import numpy as np\n",
    "import pandas as pd\n",
    "from pandas import DataFrame\n",
    "# Group Members: Dhvaniben Jasoliya Leutrim Uka Nicola Horst Tauqeer Rumaney Yuvraj Dhepe\n",
    "\n",
    "def read_data(path_x: str, path_y: str):\n",
    "    x: DataFrame = pd.read_csv(path_x, sep=',', header=None, names=['x1', 'x2', 'x3'])\n",
    "    y: DataFrame = pd.read_csv(path_y, sep=' ',  header=None, names=['y'])\n",
    "\n",
    "    # transform the df into numpy arrays\n",
    "    _x = np.array(x.values, 'float')\n",
    "    _y = np.array(y.values, 'float')\n",
    "\n",
    "    # add ones in x[0: ] for beta 0\n",
    "    _x = np.column_stack((np.ones(len(_x)), _x))\n",
    "    return _x, _y\n",
    "\n",
    "\n",
    "def get_beta_hat_estimate(x: np.array, y: np.array):\n",
    "    \"\"\"\n",
    "    We know that minimizing the LS estimator is equivalent to maximising the (log) likelihood estimate ML. Therfore\n",
    "    to obtain the ML w.r.t beta, we compute the optimum for the LS estimator by using the derived formula\n",
    "    (X.T @ X)^-1 @ X.T @ y\n",
    "    \"\"\"\n",
    "    beta_hat_estimate = np.linalg.inv(x.T @ x) @ x.T @ y\n",
    "    return beta_hat_estimate\n",
    "\n",
    "\n",
    "def get_sigma_hat_estimate(x: np.array, y: np.array, beta_hat: np.array):\n",
    "    \"\"\"\n",
    "    Using the ML Estimator for beta (beta_hat) we can compute the estimate for the squared variance\n",
    "    Therefore we compute the sum of squared residuals with is equivalent to eps.T @ eps since eps = (y - X @ beta_hat)\n",
    "    finally we return the sse divided by the number of samples to obtain our ML estimate for sigma^2 (sigma^2_hat)\n",
    "    \"\"\"\n",
    "    sse: np.array = np.sum((y - x @ beta_hat)**2)\n",
    "    n = len(x)\n",
    "    return sse / n\n",
    "\n",
    "\n",
    "def get_adjusted_sigma_hat_estimate(x: np.array, y: np.array, beta_hat: np.array):\n",
    "    \"\"\"\n",
    "    Using the ML Estimator for beta (beta_hat) we can compute the adjusted estimator for the squared variance.\n",
    "    This is almost the same computation as the non-adjusted version but we divide not by the number of samples but\n",
    "    n-p-1 where n - 1 the total amount of freedom coming from our samples.\n",
    "    p = is the amount of freedom we get form our prediction variables beta\n",
    "    \"\"\"\n",
    "    sse: np.array = np.sum((y - x @ beta_hat) ** 2)\n",
    "    n = len(x)\n",
    "    p = len(beta_hat)\n",
    "\n",
    "    return sse / (n - p - 1)\n",
    "\n",
    "\n",
    "\n",
    "path_x: str = \"./X.txt\"\n",
    "path_y: str = \"./Y.txt\"\n",
    "\n",
    "# load the data\n",
    "x, y = read_data(path_x, path_y)\n",
    "\n",
    "# compute the estimator\n",
    "beta_hat_estimator = get_beta_hat_estimate(x, y)\n",
    "sigma_hat_estimator = get_sigma_hat_estimate(x, y, beta_hat_estimator)\n",
    "ad_sigma_hat_sse = get_adjusted_sigma_hat_estimate(x, y, beta_hat_estimator)\n",
    "\n",
    "print(f\"ML Estimator β hat: \\n{beta_hat_estimator}\")\n",
    "print(f\"ML Estimator of σ^2: {sigma_hat_estimator}\")\n",
    "print(f\"ML Estimator of adjusted σ^2 sse: {ad_sigma_hat_sse}\")"
   ]
  }
 ],
 "metadata": {
  "kernelspec": {
   "display_name": "Python 3 (ipykernel)",
   "language": "python",
   "name": "python3"
  },
  "language_info": {
   "codemirror_mode": {
    "name": "ipython",
    "version": 3
   },
   "file_extension": ".py",
   "mimetype": "text/x-python",
   "name": "python",
   "nbconvert_exporter": "python",
   "pygments_lexer": "ipython3",
   "version": "3.10.13"
  }
 },
 "nbformat": 4,
 "nbformat_minor": 5
}
